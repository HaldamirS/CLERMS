{
 "cells": [
  {
   "cell_type": "code",
   "execution_count": 1,
   "metadata": {},
   "outputs": [],
   "source": [
    "import pickle\n",
    "import numpy as np\n",
    "from tqdm import tqdm"
   ]
  },
  {
   "cell_type": "markdown",
   "metadata": {},
   "source": [
    "### Load pre-processed data"
   ]
  },
  {
   "cell_type": "code",
   "execution_count": 2,
   "metadata": {},
   "outputs": [],
   "source": [
    "data_path = \"/data1/CLERMS/data/\""
   ]
  },
  {
   "cell_type": "code",
   "execution_count": null,
   "metadata": {},
   "outputs": [],
   "source": [
    "filename = data_path + \"ALL_GNPS_positive_processed_annotated.pickle\"\n",
    "with open(filename, 'rb') as file:\n",
    "    spectrums = pickle.load(file)"
   ]
  },
  {
   "cell_type": "code",
   "execution_count": null,
   "metadata": {},
   "outputs": [],
   "source": [
    "inchikeys_list = [s.get(\"inchikey\") for s in spectrums]\n",
    "inchikey14_array = np.array([x[:14] for x in inchikeys_list])\n",
    "inchikey14_unique = list({x[:14] for x in inchikeys_list})\n",
    "print(len(inchikey14_unique))"
   ]
  },
  {
   "cell_type": "markdown",
   "metadata": {},
   "source": [
    "### For all compounds 80% Train 20% Test "
   ]
  },
  {
   "cell_type": "code",
   "execution_count": null,
   "metadata": {},
   "outputs": [],
   "source": [
    "total_len = len(inchikey14_unique)\n",
    "train_len = int(total_len * 0.8)\n",
    "test_len = total_len - train_len\n",
    "inchikey_test_index = np.random.choice(list(range(total_len)),test_len,replace=False)\n",
    "inchikey_train_index = np.delete(np.arange(total_len),inchikey_test_index)\n",
    "inchikey_test = np.array(inchikey14_unique)[inchikey_test_index]\n",
    "inchikey_train = np.array(inchikey14_unique)[inchikey_train_index]\n",
    "print(train_len,test_len)"
   ]
  },
  {
   "cell_type": "markdown",
   "metadata": {},
   "source": [
    "#### For train and test set, if one compound has more than one spectra, extract one of them to 2nd set, the rest form 1st set."
   ]
  },
  {
   "cell_type": "code",
   "execution_count": null,
   "metadata": {},
   "outputs": [],
   "source": [
    "spectrum_train_1_index = []\n",
    "spectrum_train_2_index = []\n",
    "for key in tqdm(inchikey_train):\n",
    "    index = np.where(inchikey14_array==key)[0]\n",
    "    if index.shape[0]==1:\n",
    "        spectrum_train_1_index.append(index[0])\n",
    "    else:\n",
    "        index_2 = np.random.choice(index)\n",
    "        index_1 = index[index!=index_2]\n",
    "        spectrum_train_1_index += list(index_1)\n",
    "        spectrum_train_2_index.append(index_2)"
   ]
  },
  {
   "cell_type": "code",
   "execution_count": null,
   "metadata": {},
   "outputs": [],
   "source": [
    "spectrum_test_1_index = []\n",
    "spectrum_test_2_index = []\n",
    "for key in tqdm(inchikey_test):\n",
    "    index = np.where(inchikey14_array==key)[0]\n",
    "    index_2 = np.random.choice(index)\n",
    "    index_1 = index[index!=index_2]\n",
    "    spectrum_test_1_index += list(index_1)\n",
    "    spectrum_test_2_index.append(index_2)"
   ]
  },
  {
   "cell_type": "code",
   "execution_count": null,
   "metadata": {},
   "outputs": [],
   "source": [
    "spectrums_inchikey14 = []\n",
    "for idx, s in enumerate(tqdm(spectrums)):\n",
    "    s = s.set(\"inchikey14\",inchikey14_array[idx])\n",
    "    spectrums_inchikey14.append(s)"
   ]
  },
  {
   "cell_type": "code",
   "execution_count": null,
   "metadata": {},
   "outputs": [],
   "source": [
    "spectrums_array = np.array(spectrums_inchikey14)\n",
    "train_1 = list(spectrums_array[spectrum_train_1_index])\n",
    "train_2 = list(spectrums_array[spectrum_train_2_index])\n",
    "test_1 = list(spectrums_array[spectrum_test_1_index])\n",
    "test_2 = list(spectrums_array[spectrum_test_2_index])"
   ]
  },
  {
   "cell_type": "markdown",
   "metadata": {},
   "source": [
    "#### Save"
   ]
  },
  {
   "cell_type": "code",
   "execution_count": null,
   "metadata": {},
   "outputs": [],
   "source": [
    "pickle.dump(train_1,open(data_path + \"train_1.pickle\",\"wb\"))\n",
    "pickle.dump(train_2,open(data_path +\"train_2.pickle\",\"wb\"))\n",
    "pickle.dump(test_1,open(data_path +\"test_1.pickle\",\"wb\"))\n",
    "pickle.dump(test_2,open(data_path +\"test_2.pickle\",\"wb\"))"
   ]
  }
 ],
 "metadata": {
  "kernelspec": {
   "display_name": "Python 3 (ipykernel)",
   "language": "python",
   "name": "python3"
  },
  "language_info": {
   "codemirror_mode": {
    "name": "ipython",
    "version": 3
   },
   "file_extension": ".py",
   "mimetype": "text/x-python",
   "name": "python",
   "nbconvert_exporter": "python",
   "pygments_lexer": "ipython3",
   "version": "3.8.5"
  },
  "toc": {
   "base_numbering": 1,
   "nav_menu": {},
   "number_sections": true,
   "sideBar": true,
   "skip_h1_title": false,
   "title_cell": "Table of Contents",
   "title_sidebar": "Contents",
   "toc_cell": false,
   "toc_position": {},
   "toc_section_display": true,
   "toc_window_display": false
  }
 },
 "nbformat": 4,
 "nbformat_minor": 2
}
